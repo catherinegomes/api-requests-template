{
 "cells": [
  {
   "cell_type": "markdown",
   "id": "collective-suite",
   "metadata": {},
   "source": [
    "# Purpose\n",
    "\n",
    "\n",
    "## Requirements:\n",
    "\n",
    "\n",
    "## The following API endpoints are described:"
   ]
  },
  {
   "cell_type": "code",
   "execution_count": null,
   "id": "interior-simon",
   "metadata": {},
   "outputs": [],
   "source": [
    "import os, csv\n",
    "import pandas as pd\n",
    "import requests, json, pprint\n",
    "from requests.auth import HTTPBasicAuth\n",
    "from pprint import pp\n",
    "from config import key"
   ]
  },
  {
   "cell_type": "code",
   "execution_count": null,
   "id": "taken-century",
   "metadata": {},
   "outputs": [],
   "source": [
    "## File to Load (Remember to Change These)\n",
    "# file_to_load = os.path.join(\"~/Desktop\", \"export.csv\")\n",
    "# print(file_to_load)"
   ]
  },
  {
   "cell_type": "code",
   "execution_count": null,
   "id": "significant-potato",
   "metadata": {},
   "outputs": [],
   "source": [
    "API_KEY = key"
   ]
  },
  {
   "cell_type": "code",
   "execution_count": 7,
   "id": "pressed-subject",
   "metadata": {},
   "outputs": [],
   "source": [
    "def api_call(parameter1, key):\n",
    "    url = \"\"\n",
    "    payload = {\n",
    "        \"\" : parameter1\n",
    "    }\n",
    "    r = requests.get(url, params = payload, headers = {\"Content-Type\":\"application/json\"}, auth=HTTPBasicAuth(key, ''))\n",
    "\n",
    "    if r.status_code == 200:\n",
    "        return r.json()\n",
    "    else:\n",
    "        print(r.status_code, r.reason)"
   ]
  },
  {
   "cell_type": "code",
   "execution_count": null,
   "id": "incredible-seating",
   "metadata": {},
   "outputs": [],
   "source": [
    "api_call(argument1, key)"
   ]
  }
 ],
 "metadata": {
  "kernelspec": {
   "display_name": "benchling_fun",
   "language": "python",
   "name": "myenv"
  },
  "language_info": {
   "codemirror_mode": {
    "name": "ipython",
    "version": 3
   },
   "file_extension": ".py",
   "mimetype": "text/x-python",
   "name": "python",
   "nbconvert_exporter": "python",
   "pygments_lexer": "ipython3",
   "version": "3.9.0"
  }
 },
 "nbformat": 4,
 "nbformat_minor": 5
}
